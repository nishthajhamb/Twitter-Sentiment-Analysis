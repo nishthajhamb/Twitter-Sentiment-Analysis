{
 "cells": [
  {
   "cell_type": "markdown",
   "metadata": {},
   "source": [
    "# Twitter sentiment analysis "
   ]
  },
  {
   "cell_type": "markdown",
   "metadata": {},
   "source": [
    "This is twitter sentiment analysis project. First import the necessary packages"
   ]
  },
  {
   "cell_type": "code",
   "execution_count": 2,
   "metadata": {},
   "outputs": [
    {
     "name": "stdout",
     "output_type": "stream",
     "text": [
      "/home/monty10/ENTER/lib/python3.7/site-packages/tweepy/__init__.py\n",
      "RT @trtworld: Plagued by domestic governance failures, India's Narendra Modi and Pakistan's Imran Khan are heading toward desperate margins…\n",
      "Sentiment(polarity=-0.3, subjectivity=0.55)\n",
      "Negative\n",
      "मोदी सरकार के इन 2 ‘क्रांतिकारी फैसलों’ ने बदल कर रख दी सालों पुरानी सोच, अब दिख रहा है बदलाव… https://t.co/Pxfw2EIT0R\n",
      "Sentiment(polarity=0.0, subjectivity=0.0)\n",
      "Neutral\n",
      "RT @Proletarian1917: RT if you want to see Narendra Modi thrown out of power in the New Year! #2020\n",
      "Sentiment(polarity=0.17045454545454544, subjectivity=0.45454545454545453)\n",
      "Positive\n",
      "RT @YearOfTheKraken: Indian society is not like American society. Indian society is far more closely knit than Muricans. There's no signifi…\n",
      "Sentiment(polarity=0.19999999999999998, subjectivity=0.5)\n",
      "Positive\n",
      "RT @IshaButt5858: On August 5, Prime Minister Narendra Modi’s Hindu nationalist government scrapped the autonomy of Occupied Jammu and Kash…\n",
      "Sentiment(polarity=0.0, subjectivity=0.0)\n",
      "Neutral\n",
      "RT @doamuslims: Muslim countries who honoured and awarded Indian Prime Minister Narendra #Modi...\n",
      "\n",
      "#UAE #SaudiArabia #Bahrain #Afghanistan…\n",
      "Sentiment(polarity=0.0, subjectivity=0.0)\n",
      "Neutral\n",
      "RT @AshwiniBJP: बीजेपी नेता की पीएम मोदी को चिठ्ठी, चीन की तर्ज पर कठोर #जनसंख्या_नियंत्रण_कानून बनाने की मांग\n",
      "\n",
      " https://t.co/AKbkdA2CnP\n",
      "\n",
      "@…\n",
      "Sentiment(polarity=0.0, subjectivity=0.0)\n",
      "Neutral\n",
      "It’s inexplicable that India's government would choose to play with fire in this manner. \n",
      "\n",
      "An overwhelmingly peacef… https://t.co/nKrb68kPC8\n",
      "Sentiment(polarity=-0.04999999999999999, subjectivity=0.95)\n",
      "Negative\n",
      "RT @doamuslims: Muslim countries who honoured and awarded Indian Prime Minister Narendra #Modi...\n",
      "\n",
      "#UAE #SaudiArabia #Bahrain #Afghanistan…\n",
      "Sentiment(polarity=0.0, subjectivity=0.0)\n",
      "Neutral\n",
      "RT @GoSlowplz: How would u like to wish narendra modi on new year\n",
      "Sentiment(polarity=0.13636363636363635, subjectivity=0.45454545454545453)\n",
      "Positive\n",
      "RT @vinayak_jain: As far as millennials are concerned I don’t think they ever supported Narendra Modi significantly. This is a generation t…\n",
      "Sentiment(polarity=0.2375, subjectivity=0.9375)\n",
      "Positive\n",
      "RT @reddyharshith07: @narendramodi Please @narendramodi ji follow me back \n",
      "\n",
      "Follow back from Narendra Modi is the best gift anyone can ever…\n",
      "Sentiment(polarity=0.3333333333333333, subjectivity=0.09999999999999999)\n",
      "Positive\n",
      "RT @manojkjhadu: A brilliant piece ..A touching piece by #RajmohanGandhi...A piece to begin with the first morning of #2020NewYear\n",
      "Is every…\n",
      "Sentiment(polarity=0.5499999999999999, subjectivity=0.611111111111111)\n",
      "Positive\n",
      "Not even going to get into the fact most of them seem to have Narendra Modi pics. That's the new length people will… https://t.co/oqLFvT9ngY\n",
      "Sentiment(polarity=0.3181818181818182, subjectivity=0.4772727272727273)\n",
      "Positive\n",
      "RT @mvmeet: Narendra S/O Damodardas Modi\n",
      "Damodar S/O Mulchand Das Modi\n",
      "Moolchand S/O Maganlal Modi\n",
      "Maganlal S/O Ranchhodas Modi\n",
      "\n",
      "Now\n",
      "\n",
      "Rahul…\n",
      "Sentiment(polarity=0.0, subjectivity=0.0)\n",
      "Neutral\n"
     ]
    }
   ],
   "source": [
    "import tweepy\n",
    "from tweepy import OAuthHandler\n",
    "from textblob import TextBlob\n",
    "\n",
    "\n",
    "print(tweepy.__file__)\n",
    "consumer_key = 'qxyHZ3oGs31CkaXlTmODl4c5I'\n",
    "consumer_key_secret = 'Zs0lUZSNpuBUPr5GMrxDrHMs4aW7J0ca9VjrAKXVav2VMfRrbX'\n",
    "\n",
    "access_token = '879203914662514688-1vPdBIwPvXsEufReG6AjxSjPkXX7knT'\n",
    "access_token_secret = 'gMsyYw5rPqaf7L9JtLc1k5rrrVKteFpfw231qwwx7wrZ7'\n",
    "\n",
    "auth = tweepy.OAuthHandler(consumer_key,consumer_key_secret)\n",
    "auth.set_access_token(access_token,access_token_secret)\n",
    "\n",
    "api=tweepy.API(auth)\n",
    "\n",
    "public_tweets= api.search('Narendra Modi')\n",
    "\n",
    "for tweet in public_tweets:\n",
    "    print(tweet.text)\n",
    "    analysis = TextBlob(tweet.text)\n",
    "    print(analysis.sentiment)\n",
    "    if analysis.sentiment[0]>0:\n",
    "        print('Positive')\n",
    "    elif analysis.sentiment[0]<0:\n",
    "        print('Negative')\n",
    "    else:\n",
    "        print('Neutral')"
   ]
  },
  {
   "cell_type": "code",
   "execution_count": null,
   "metadata": {},
   "outputs": [],
   "source": [
    "Here POLARITY refers to the content of tweet whether it is positive or abusive or does not go in either ways"
   ]
  }
 ],
 "metadata": {
  "kernelspec": {
   "display_name": "Python 3",
   "language": "python",
   "name": "python3"
  },
  "language_info": {
   "codemirror_mode": {
    "name": "ipython",
    "version": 3
   },
   "file_extension": ".py",
   "mimetype": "text/x-python",
   "name": "python",
   "nbconvert_exporter": "python",
   "pygments_lexer": "ipython3",
   "version": "3.7.3"
  }
 },
 "nbformat": 4,
 "nbformat_minor": 2
}
